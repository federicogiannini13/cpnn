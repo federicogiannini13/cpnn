{
 "cells": [
  {
   "cell_type": "code",
   "execution_count": 1,
   "id": "354aa325-399f-4427-afa5-e712ad37ac39",
   "metadata": {},
   "outputs": [],
   "source": [
    "import os\n",
    "os.chdir(os.path.dirname(os.getcwd()))"
   ]
  },
  {
   "cell_type": "code",
   "execution_count": null,
   "id": "8b087cd1-b3d8-4c82-96f0-59b83e94014a",
   "metadata": {},
   "outputs": [],
   "source": [
    "n = 55000\n",
    "mcl = 10\n",
    "dataset = f\"sine_rw_{mcl}_1234\""
   ]
  },
  {
   "cell_type": "code",
   "execution_count": null,
   "id": "d6f4a982-f323-4a1b-a2ce-5e67c1a208d4",
   "metadata": {},
   "outputs": [],
   "source": [
    "from data.rw_generator import *"
   ]
  },
  {
   "cell_type": "code",
   "execution_count": null,
   "id": "808f3a23-9e8b-4aa3-ae0c-d140cd4ee335",
   "metadata": {},
   "outputs": [],
   "source": [
    "dfs = []\n",
    "rw = []"
   ]
  },
  {
   "cell_type": "code",
   "execution_count": null,
   "id": "40153333-537d-46ed-8a9b-a63c5361151e",
   "metadata": {},
   "outputs": [],
   "source": [
    "rw.append(RandomWalkGenerator(generator = 'sine', classification_function=0))\n",
    "dfs.append(rw[-1].generate(n, max_consec_labels = mcl, distribution=\"chi2\"))"
   ]
  },
  {
   "cell_type": "code",
   "execution_count": null,
   "id": "e82a6fb8-8fff-4014-be35-f3a7f3563bc3",
   "metadata": {},
   "outputs": [],
   "source": [
    "rw.append(RandomWalkGenerator(generator = 'sine', classification_function=2))\n",
    "dfs.append(rw[-1].generate(n, max_consec_labels = mcl, distribution=\"normal\"))"
   ]
  },
  {
   "cell_type": "code",
   "execution_count": null,
   "id": "cfeb2019-805c-4ac3-9d3b-f9cc83294b3a",
   "metadata": {},
   "outputs": [],
   "source": [
    "rw.append(RandomWalkGenerator(generator = 'sine', classification_function=1))\n",
    "dfs.append(rw[-1].generate(n, max_consec_labels = mcl, distribution=\"uniform\"))"
   ]
  },
  {
   "cell_type": "code",
   "execution_count": null,
   "id": "e965cf82-401d-4b0a-9fb7-9831db428196",
   "metadata": {},
   "outputs": [],
   "source": [
    "rw.append(RandomWalkGenerator(generator = 'sine', classification_function=3))\n",
    "dfs.append(rw[-1].generate(n, max_consec_labels = mcl, distribution=\"f\"))"
   ]
  },
  {
   "cell_type": "code",
   "execution_count": null,
   "id": "6250e9ec-196d-469d-afdc-2f0ee6554209",
   "metadata": {},
   "outputs": [],
   "source": [
    "import pickle\n",
    "with open(f\"datasets/{dataset}.pkl\", \"wb\") as f:\n",
    "    pickle.dump(rw, f)"
   ]
  },
  {
   "cell_type": "code",
   "execution_count": null,
   "id": "34fc9d9b-a445-4d1f-a5d6-aa741483d514",
   "metadata": {},
   "outputs": [],
   "source": [
    "dfs_train = []\n",
    "dfs_test = []\n",
    "for i in range(0,len(dfs)):\n",
    "    dfs[i][\"task\"]=i+1\n",
    "    dfs_train.append(dfs[i].iloc[:-5000,0:])\n",
    "    dfs_test.append(dfs[i].iloc[-5000:,0:])"
   ]
  },
  {
   "cell_type": "code",
   "execution_count": null,
   "id": "8b582f81-d11c-4f97-8031-d5186cd2424b",
   "metadata": {},
   "outputs": [],
   "source": [
    "df_train = pd.concat(dfs_train)\n",
    "df_test = pd.concat(dfs_test)"
   ]
  },
  {
   "cell_type": "code",
   "execution_count": null,
   "id": "342d727b-2aa9-4e51-8745-5c661cf92f57",
   "metadata": {},
   "outputs": [],
   "source": [
    "df_train.to_csv(f\"datasets/{dataset}.csv\", index=False)\n",
    "df_test.to_csv(f\"datasets/{dataset}_test.csv\", index=False)"
   ]
  },
  {
   "cell_type": "code",
   "execution_count": null,
   "id": "5e2abb7b-cb98-4bf4-899a-b5fa877e624a",
   "metadata": {},
   "outputs": [],
   "source": [
    "import sklearn\n",
    "import matplotlib.pyplot as plt"
   ]
  },
  {
   "cell_type": "code",
   "execution_count": null,
   "id": "23567eff-760e-4df0-ae24-590ff2d66cb6",
   "metadata": {},
   "outputs": [],
   "source": [
    "fig, ax = plt.subplots(ncols=1, nrows=len(dfs), figsize=(30, 30))\n",
    "for i,df in enumerate(dfs):\n",
    "    df_ = df.reset_index().drop(columns=\"index\").iloc[0:3000,0:]\n",
    "    ax[i].plot(df_.index, df_[\"target\"])\n",
    "    ax[i].scatter(df_.index, df_[\"target\"])"
   ]
  },
  {
   "cell_type": "code",
   "execution_count": null,
   "id": "1e10f164-f5fe-4a24-8fc2-e5ec6fb97574",
   "metadata": {},
   "outputs": [],
   "source": [
    "dfs = dfs_train"
   ]
  },
  {
   "cell_type": "code",
   "execution_count": null,
   "id": "1afef4f7-35bc-4a3c-9553-a36e187e6576",
   "metadata": {},
   "outputs": [],
   "source": [
    "lens = []\n",
    "for t in range(0, df_train[\"task\"].max()):\n",
    "    i = 1\n",
    "    j = 0\n",
    "    lens.append([[],[]])\n",
    "    \n",
    "    while i < len(dfs[t]):\n",
    "        if dfs[t].iloc[i][\"target\"] != dfs[t].iloc[i-1][\"target\"]:\n",
    "            lens[-1][int(dfs[t].iloc[i-1][\"target\"])].append(i-j)\n",
    "            j = i\n",
    "        i += 1\n",
    "    lens[-1][int(dfs[t].iloc[i-1][\"target\"])].append(len(dfs[t])-j)"
   ]
  },
  {
   "cell_type": "code",
   "execution_count": null,
   "id": "48aca775-05cb-4b3b-b2c4-68f4d7c2e4b6",
   "metadata": {},
   "outputs": [],
   "source": [
    "from collections import Counter\n",
    "\n",
    "counters = []\n",
    "\n",
    "for i in range(0,len(lens)):\n",
    "    counters.append([])\n",
    "    for j in range(0,len(lens[i])):\n",
    "        c = dict(Counter(lens[i][j]))\n",
    "        for k in range(1, 21):\n",
    "            if k not in c:\n",
    "                c[k] = 0\n",
    "        ordered_c = []\n",
    "        for k in sorted(c.keys()):\n",
    "            ordered_c.append(c[k])\n",
    "        counters[-1].append(ordered_c)"
   ]
  },
  {
   "cell_type": "code",
   "execution_count": null,
   "id": "5e3a6ba7-8876-46ed-abf4-911a8958a461",
   "metadata": {},
   "outputs": [],
   "source": [
    "import numpy as np"
   ]
  },
  {
   "cell_type": "code",
   "execution_count": null,
   "id": "4833226a-9217-4349-8b63-96070609a53e",
   "metadata": {},
   "outputs": [],
   "source": [
    "import matplotlib.pyplot as plt"
   ]
  },
  {
   "cell_type": "code",
   "execution_count": null,
   "id": "e8a47326-e377-41d6-a512-0f1af5b5495d",
   "metadata": {},
   "outputs": [],
   "source": [
    "fig, ax = plt.subplots(ncols=1, nrows=len(dfs), figsize=(30, 30), sharey=True)\n",
    "for i, df_ in enumerate(dfs):\n",
    "    ax[i].bar([str(x) for x in list(range(1,len(counters[i][0])+1))], counters[i][0], 1, label=\"0\")\n",
    "    ax[i].bar([str(x) for x in list(range(1,len(counters[i][1])+1))], counters[i][1], 1, label=\"1\", bottom = counters[i][0])\n",
    "    ax[i].legend()"
   ]
  },
  {
   "cell_type": "code",
   "execution_count": null,
   "id": "a610a976-910b-4f3f-878a-6b51c4010ab4",
   "metadata": {},
   "outputs": [],
   "source": [
    "def create_inverted(dfs):\n",
    "    dfs_inverted = []\n",
    "    for t, i in enumerate([0, 3, 2, 1]):\n",
    "        dfs_inverted.append(dfs[i].copy())\n",
    "        dfs_inverted[-1][\"task\"] = t+1\n",
    "    return pd.concat(dfs_inverted)"
   ]
  },
  {
   "cell_type": "code",
   "execution_count": null,
   "id": "0e3dcee2-b812-4be9-baff-941f4ee5c993",
   "metadata": {},
   "outputs": [],
   "source": [
    "df_train_inverted = create_inverted(dfs_train)\n",
    "df_test_inverted = create_inverted(dfs_test)"
   ]
  },
  {
   "cell_type": "code",
   "execution_count": null,
   "id": "8b0ad50b-0920-4b50-b671-fd920051b6ac",
   "metadata": {},
   "outputs": [],
   "source": [
    "df_train_inverted.to_csv(f\"datasets/{dataset}_inverted.csv\", index=False)\n",
    "df_test_inverted.to_csv(f\"datasets/{dataset}_test_inverted.csv\", index=False)"
   ]
  },
  {
   "cell_type": "code",
   "execution_count": null,
   "id": "ce3bfe2a-373d-47f2-ac93-364a9559e7d2",
   "metadata": {},
   "outputs": [],
   "source": []
  }
 ],
 "metadata": {
  "kernelspec": {
   "display_name": "gim",
   "language": "python",
   "name": "gim"
  },
  "language_info": {
   "codemirror_mode": {
    "name": "ipython",
    "version": 3
   },
   "file_extension": ".py",
   "mimetype": "text/x-python",
   "name": "python",
   "nbconvert_exporter": "python",
   "pygments_lexer": "ipython3",
   "version": "3.8.13"
  }
 },
 "nbformat": 4,
 "nbformat_minor": 5
}
