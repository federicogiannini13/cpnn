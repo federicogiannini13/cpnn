{
 "cells": [
  {
   "cell_type": "code",
   "execution_count": null,
   "id": "8bc5fdc6-0b3e-402f-aa21-43b3adc9e8e5",
   "metadata": {},
   "outputs": [],
   "source": [
    "# edit this variable to set de data streams\n",
    "\n",
    "datasets = [\n",
    "    'sine_rw_10_2341'\n",
    "]"
   ]
  },
  {
   "cell_type": "code",
   "execution_count": 1,
   "id": "bb914743-ba84-4b85-b3d2-cd679cee3c58",
   "metadata": {},
   "outputs": [],
   "source": [
    "import pandas as pd\n",
    "import pickle\n",
    "import numpy as np\n",
    "import statsmodels.stats.api as sms\n",
    "import scipy\n",
    "import os"
   ]
  },
  {
   "cell_type": "code",
   "execution_count": 2,
   "id": "ab6f1124-48a2-40d6-9d4f-fdfb8298540c",
   "metadata": {},
   "outputs": [],
   "source": [
    "import os\n",
    "os.chdir(os.path.dirname(os.getcwd()))"
   ]
  },
  {
   "cell_type": "code",
   "execution_count": 3,
   "id": "daa4962d-e3c3-4d5f-b68c-fcfa3bbca174",
   "metadata": {},
   "outputs": [],
   "source": [
    "models = [\"gim_ilstm_50hs\", \"single_ilstm_50hs\", \"multiple_ilstm_50hs\"]\n",
    "\n",
    "alpha = 0.05"
   ]
  },
  {
   "cell_type": "code",
   "execution_count": 4,
   "id": "47225311-b8b1-49aa-8196-463d5b3a3126",
   "metadata": {},
   "outputs": [],
   "source": [
    "models_dict = {\n",
    "    \"cpnn_clstm_50hs\": \"cPNN\",\n",
    "    \"single_clstm_50hs\": \"cLSTM\",\n",
    "    \"multiple_clstm_50hs\": \"cLSTMs\",\n",
    "    \"ensemble_clstm_50hs_5ws\": \"ensemble\"\n",
    "}"
   ]
  },
  {
   "cell_type": "code",
   "execution_count": 5,
   "id": "50b44a55-c2c9-4f81-86fb-836335b5492f",
   "metadata": {},
   "outputs": [],
   "source": [
    "tasks_dict = {\n",
    "    \"1\": \"SINE1+\",\n",
    "    \"2\": \"SINE2+\",\n",
    "    \"3\": \"SINE1-\",\n",
    "    \"4\": \"SINE2-\"\n",
    "}"
   ]
  },
  {
   "cell_type": "code",
   "execution_count": 6,
   "id": "845ac2e8-52bc-4d27-a959-d39c34fb39eb",
   "metadata": {},
   "outputs": [],
   "source": [
    "def compute_performance(dataset, models, metric=\"accuracy\"):\n",
    "    perf_dict = {}\n",
    "    perf_interval = {}\n",
    "    for model in models:\n",
    "        try:\n",
    "            perf_dict[model] = {}\n",
    "            with open(f\"performance/{dataset}/{model}/test_then_train.pkl\", \"rb\") as f:\n",
    "                perf = pickle.load(f)\n",
    "            for k in perf:\n",
    "                perf[k] = np.asarray(perf[k])\n",
    "            for k in [metric]:\n",
    "                perf_dict[model][k] = {\n",
    "                    \"[1,50]\": np.mean(perf[k][:,:,:50], axis=2),\n",
    "                    \"[1,100]\": np.mean(perf[k][:,:,:100], axis=2),\n",
    "                    \"(100,)\": np.mean(perf[k][:,:,100:], axis=2),\n",
    "                    \"[1,)\": np.mean(perf[k], axis=2)\n",
    "                }\n",
    "        except Exception as e:\n",
    "            print(e)\n",
    "            del perf_dict[model]\n",
    "            print(model, \"not present\")\n",
    "    \n",
    "    return perf_dict"
   ]
  },
  {
   "cell_type": "code",
   "execution_count": 7,
   "id": "9d5ebcb0-1db9-413b-a84e-372eb7375852",
   "metadata": {},
   "outputs": [],
   "source": [
    "def calculate_confint(perf):\n",
    "    conf = sms.DescrStatsW(perf).tconfint_mean()\n",
    "    return np.round(conf, 3), (conf[0]+conf[1])/2"
   ]
  },
  {
   "cell_type": "code",
   "execution_count": 8,
   "id": "850156c8-81b2-41ad-9219-16bf2c038315",
   "metadata": {},
   "outputs": [],
   "source": [
    "def check_normality(data):\n",
    "    pvalue = np.round(scipy.stats.shapiro(data).pvalue, 3)\n",
    "    if pvalue>alpha:\n",
    "        return True\n",
    "    return False"
   ]
  },
  {
   "cell_type": "code",
   "execution_count": 9,
   "id": "59989f92-95c3-4fa0-a656-005981039bbb",
   "metadata": {},
   "outputs": [],
   "source": [
    "def normality_test(dataset, models, metric=\"accuracy\"):\n",
    "    perf = compute_performance(dataset, models)\n",
    "    perf_batches = {}\n",
    "    tasks = dataset.split(\"_\")[-1]\n",
    "\n",
    "    for model in perf:\n",
    "        perf_batches[model] = []\n",
    "        for t in range(0,perf[model][metric][list(perf[model][metric].keys())[0]].shape[1]):\n",
    "            d = {}\n",
    "            for b in perf[model][metric]:\n",
    "                d[b] = perf[model][metric][b][:,t]\n",
    "            perf_batches[model].append(d)\n",
    "            \n",
    "    test_df = pd.DataFrame(\n",
    "        columns=(\n",
    "            [\"task\", \"batches\"] +\n",
    "            [models_dict[m] for m in models]\n",
    "        )\n",
    "    )\n",
    "    \n",
    "    for t in range(0,len(perf_batches[models[0]])):\n",
    "        for b in perf_batches[models[0]][t]:\n",
    "            row = {\n",
    "                \"task\": tasks_dict[tasks[t]],\n",
    "                \"batches\": b,\n",
    "            }\n",
    "            for model in models:\n",
    "                row[models_dict[model]] = check_normality(perf_batches[model][t][b])\n",
    "            test_df = test_df.append(row, ignore_index=True)\n",
    "    return test_df"
   ]
  },
  {
   "cell_type": "code",
   "execution_count": 10,
   "id": "11fa326e-2678-41b0-a71c-9a7d46716b3e",
   "metadata": {},
   "outputs": [
    {
     "name": "stdout",
     "output_type": "stream",
     "text": [
      "sine_rw_10_13\n",
      "sine_rw_10_24\n",
      "sine_rw_10_31\n",
      "sine_rw_10_42\n"
     ]
    }
   ],
   "source": [
    "import warnings\n",
    "warnings.filterwarnings('ignore')\n",
    "\n",
    "for d in datasets:\n",
    "    print(d)\n",
    "    test_df = normality_test(d, models)\n",
    "\n",
    "    path = f\"performance/{d}/_prob_test\"\n",
    "    if not os.path.isdir(path):\n",
    "        os.makedirs(path)\n",
    "    test_df.to_csv(os.path.join(path, f\"normality_{d}.csv\"), index=False)\n",
    "    test_df.to_excel(os.path.join(path, f\"normality_{d}.xlsx\"), index=False)"
   ]
  },
  {
   "cell_type": "code",
   "execution_count": 11,
   "id": "27878a51-7571-44fd-b32d-ce495ffb1389",
   "metadata": {},
   "outputs": [
    {
     "data": {
      "text/html": [
       "<div>\n",
       "<style scoped>\n",
       "    .dataframe tbody tr th:only-of-type {\n",
       "        vertical-align: middle;\n",
       "    }\n",
       "\n",
       "    .dataframe tbody tr th {\n",
       "        vertical-align: top;\n",
       "    }\n",
       "\n",
       "    .dataframe thead th {\n",
       "        text-align: right;\n",
       "    }\n",
       "</style>\n",
       "<table border=\"1\" class=\"dataframe\">\n",
       "  <thead>\n",
       "    <tr style=\"text-align: right;\">\n",
       "      <th></th>\n",
       "      <th>task</th>\n",
       "      <th>batches</th>\n",
       "      <th>iPNN</th>\n",
       "      <th>iLSTM</th>\n",
       "      <th>iLSTMs</th>\n",
       "    </tr>\n",
       "  </thead>\n",
       "  <tbody>\n",
       "    <tr>\n",
       "      <th>0</th>\n",
       "      <td>SINE2-</td>\n",
       "      <td>[1,50]</td>\n",
       "      <td>True</td>\n",
       "      <td>True</td>\n",
       "      <td>False</td>\n",
       "    </tr>\n",
       "    <tr>\n",
       "      <th>1</th>\n",
       "      <td>SINE2-</td>\n",
       "      <td>[1,100]</td>\n",
       "      <td>True</td>\n",
       "      <td>False</td>\n",
       "      <td>True</td>\n",
       "    </tr>\n",
       "    <tr>\n",
       "      <th>2</th>\n",
       "      <td>SINE2-</td>\n",
       "      <td>(100,)</td>\n",
       "      <td>True</td>\n",
       "      <td>True</td>\n",
       "      <td>True</td>\n",
       "    </tr>\n",
       "    <tr>\n",
       "      <th>3</th>\n",
       "      <td>SINE2-</td>\n",
       "      <td>[1,)</td>\n",
       "      <td>True</td>\n",
       "      <td>True</td>\n",
       "      <td>True</td>\n",
       "    </tr>\n",
       "    <tr>\n",
       "      <th>4</th>\n",
       "      <td>SINE2+</td>\n",
       "      <td>[1,50]</td>\n",
       "      <td>True</td>\n",
       "      <td>True</td>\n",
       "      <td>True</td>\n",
       "    </tr>\n",
       "    <tr>\n",
       "      <th>5</th>\n",
       "      <td>SINE2+</td>\n",
       "      <td>[1,100]</td>\n",
       "      <td>True</td>\n",
       "      <td>True</td>\n",
       "      <td>True</td>\n",
       "    </tr>\n",
       "    <tr>\n",
       "      <th>6</th>\n",
       "      <td>SINE2+</td>\n",
       "      <td>(100,)</td>\n",
       "      <td>True</td>\n",
       "      <td>True</td>\n",
       "      <td>True</td>\n",
       "    </tr>\n",
       "    <tr>\n",
       "      <th>7</th>\n",
       "      <td>SINE2+</td>\n",
       "      <td>[1,)</td>\n",
       "      <td>True</td>\n",
       "      <td>True</td>\n",
       "      <td>True</td>\n",
       "    </tr>\n",
       "  </tbody>\n",
       "</table>\n",
       "</div>"
      ],
      "text/plain": [
       "     task  batches  iPNN  iLSTM iLSTMs\n",
       "0  SINE2-   [1,50]  True   True  False\n",
       "1  SINE2-  [1,100]  True  False   True\n",
       "2  SINE2-   (100,)  True   True   True\n",
       "3  SINE2-     [1,)  True   True   True\n",
       "4  SINE2+   [1,50]  True   True   True\n",
       "5  SINE2+  [1,100]  True   True   True\n",
       "6  SINE2+   (100,)  True   True   True\n",
       "7  SINE2+     [1,)  True   True   True"
      ]
     },
     "execution_count": 11,
     "metadata": {},
     "output_type": "execute_result"
    }
   ],
   "source": [
    "test_df"
   ]
  },
  {
   "cell_type": "code",
   "execution_count": null,
   "id": "caddf723-b47c-4953-b9ea-1d91516e40d8",
   "metadata": {},
   "outputs": [],
   "source": []
  }
 ],
 "metadata": {
  "kernelspec": {
   "display_name": "Python 3 (ipykernel)",
   "language": "python",
   "name": "python3"
  },
  "language_info": {
   "codemirror_mode": {
    "name": "ipython",
    "version": 3
   },
   "file_extension": ".py",
   "mimetype": "text/x-python",
   "name": "python",
   "nbconvert_exporter": "python",
   "pygments_lexer": "ipython3",
   "version": "3.9.12"
  }
 },
 "nbformat": 4,
 "nbformat_minor": 5
}
